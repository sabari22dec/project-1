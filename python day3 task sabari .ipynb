{
  "nbformat": 4,
  "nbformat_minor": 0,
  "metadata": {
    "colab": {
      "provenance": []
    },
    "kernelspec": {
      "name": "python3",
      "display_name": "Python 3"
    },
    "language_info": {
      "name": "python"
    }
  },
  "cells": [
    {
      "cell_type": "code",
      "source": [
        "x = int(input(\"enter a value for x: \"))\n",
        "y = int(input(\"enter a value for y: \"))\n",
        "if(x>y):\n",
        "    print(\"x is greater than y\")"
      ],
      "metadata": {
        "colab": {
          "base_uri": "https://localhost:8080/"
        },
        "id": "pSttJB5_jNnV",
        "outputId": "ae68e0b6-28ca-443c-c95d-3fb52373c39f"
      },
      "execution_count": null,
      "outputs": [
        {
          "output_type": "stream",
          "name": "stdout",
          "text": [
            "enter a value for x: 10\n",
            "enter a value for y: 5\n",
            "x is greater than y\n"
          ]
        }
      ]
    },
    {
      "cell_type": "code",
      "source": [
        "x=int(input(\"enter a value for x\"))\n",
        "y=int(input(\"enter a value for y\"))\n",
        "if(x>y):\n",
        "  print(\"x is greater\")\n",
        "elif y < x:\n",
        "  print(\"y is greater\")\n",
        "else:\n",
        "  if x == y:\n",
        "    print(\"the number is even\")"
      ],
      "metadata": {
        "colab": {
          "base_uri": "https://localhost:8080/"
        },
        "id": "9Kk4rQOTysDr",
        "outputId": "bd0bc831-b43c-40e7-d35b-aac30e1a8567"
      },
      "execution_count": null,
      "outputs": [
        {
          "output_type": "stream",
          "name": "stdout",
          "text": [
            "enter a value for x6\n",
            "enter a value for y6\n",
            "the number is even\n"
          ]
        }
      ]
    },
    {
      "cell_type": "code",
      "source": [
        "year=input()\n",
        "print(\"enter a year is;\",year)"
      ],
      "metadata": {
        "colab": {
          "base_uri": "https://localhost:8080/"
        },
        "id": "P4896Rw246B3",
        "outputId": "bbe73879-8bf1-4083-a59b-e238919acf5f"
      },
      "execution_count": null,
      "outputs": [
        {
          "output_type": "stream",
          "name": "stdout",
          "text": [
            "2024\n",
            "enter a year is; 2024\n"
          ]
        }
      ]
    },
    {
      "cell_type": "code",
      "source": [
        "if(2021==0):\n",
        "  print(\"leap year\")\n",
        "elif(2021!=0):\n",
        "    print(\"not a leap year\")"
      ],
      "metadata": {
        "colab": {
          "base_uri": "https://localhost:8080/"
        },
        "id": "Ic7tAvKUAnhD",
        "outputId": "6caeaff2-0d24-418d-9ed6-d125c5a6e833"
      },
      "execution_count": null,
      "outputs": [
        {
          "output_type": "stream",
          "name": "stdout",
          "text": [
            "not a leap year\n"
          ]
        }
      ]
    },
    {
      "cell_type": "code",
      "source": [
        "# exam_score"
      ],
      "metadata": {
        "id": "WRzqHVsQmatA"
      },
      "execution_count": null,
      "outputs": []
    },
    {
      "cell_type": "code",
      "source": [
        "x = int(input(\"enter a value for: \"))\n",
        "y = 50\n",
        "if(x >= y):\n",
        "  print(\"congratulation!you have passed\")\n",
        "else:\n",
        "        print(\"sorry,you have failed.Bertter luck next time\")"
      ],
      "metadata": {
        "colab": {
          "base_uri": "https://localhost:8080/"
        },
        "id": "SVF6cSQprXj-",
        "outputId": "1459c293-722d-471e-d4bd-83b92ce8d868"
      },
      "execution_count": null,
      "outputs": [
        {
          "output_type": "stream",
          "name": "stdout",
          "text": [
            "enter a value for: 79\n",
            "congratulation!you have passed\n"
          ]
        }
      ]
    },
    {
      "cell_type": "code",
      "source": [
        "a=int(input(\"enter a value for:a\"))\n",
        "if(a>0):\n",
        "  print(\"positive\")\n",
        "elif (a < 0):\n",
        "  print(\"negative\")\n",
        "elif(a == 0):\n",
        "        print(\"zero\")"
      ],
      "metadata": {
        "colab": {
          "base_uri": "https://localhost:8080/"
        },
        "id": "l7UcBQcPsOFT",
        "outputId": "a69f321e-88c3-41bd-aeaa-4563828e8c59"
      },
      "execution_count": null,
      "outputs": [
        {
          "output_type": "stream",
          "name": "stdout",
          "text": [
            "enter a value for:a-8\n",
            "negative\n"
          ]
        }
      ]
    },
    {
      "cell_type": "code",
      "source": [
        "a=int(input(\"enter a =\"))\n",
        "if(a<0):\n",
        "  print(\"Freezing\")\n",
        "elif(a==0 or a<=18):\n",
        "  print(\"cool\")\n",
        "elif(a<=30):\n",
        "      print(\"warm\")\n",
        "else:\n",
        "  print(\"hot\")\n"
      ],
      "metadata": {
        "colab": {
          "base_uri": "https://localhost:8080/"
        },
        "id": "eoA1tAMLLDpg",
        "outputId": "80205483-8e69-45b1-d1d4-acc5bd04a9d4"
      },
      "execution_count": null,
      "outputs": [
        {
          "output_type": "stream",
          "name": "stdout",
          "text": [
            "enter a =18\n",
            "cool\n"
          ]
        }
      ]
    },
    {
      "cell_type": "code",
      "source": [
        "mark=int(input(\"enter a mark\"))\n",
        "if(mark>=90 and mark<=100):\n",
        "  print(\"s Gread\")\n",
        "elif(mark>=80 and mark<90):\n",
        "  print(\"A Gread\")\n",
        "elif(mark>=70 and mark<80):\n",
        "  print(\"B gread\")\n",
        "elif(mark>=50 and mark<70):\n",
        "  print(\"s Gread\")\n",
        "else:\n",
        "  print(\"fail better luck next time\")\n"
      ],
      "metadata": {
        "colab": {
          "base_uri": "https://localhost:8080/"
        },
        "id": "thwq4Ivdsmt8",
        "outputId": "d6679984-391d-4c9a-9583-1061c8e42d2c"
      },
      "execution_count": null,
      "outputs": [
        {
          "output_type": "stream",
          "name": "stdout",
          "text": [
            "enter a mark87\n",
            "A Gread\n"
          ]
        }
      ]
    },
    {
      "cell_type": "code",
      "source": [
        "for i in range(1,7):\n",
        "  print(i)"
      ],
      "metadata": {
        "colab": {
          "base_uri": "https://localhost:8080/"
        },
        "id": "UhlfsReWwsHp",
        "outputId": "8de8daae-9246-4aa3-d66a-6e519be2ef92"
      },
      "execution_count": null,
      "outputs": [
        {
          "output_type": "stream",
          "name": "stdout",
          "text": [
            "1\n",
            "2\n",
            "3\n",
            "4\n",
            "5\n",
            "6\n"
          ]
        }
      ]
    },
    {
      "cell_type": "code",
      "source": [
        "# waitting"
      ],
      "metadata": {
        "id": "8hT9_86FsfN_"
      },
      "execution_count": null,
      "outputs": []
    },
    {
      "cell_type": "code",
      "source": [
        "for i in range(3,4):\n",
        "    for j in range(1,11):\n",
        "      print(j,\"*\",i,\"=\",i*j)"
      ],
      "metadata": {
        "colab": {
          "base_uri": "https://localhost:8080/"
        },
        "id": "G5xFb6SuMaeM",
        "outputId": "e07aeedb-2b8e-4339-9b1d-5579bbbc0e0f"
      },
      "execution_count": 14,
      "outputs": [
        {
          "output_type": "stream",
          "name": "stdout",
          "text": [
            "1 * 3 = 3\n",
            "2 * 3 = 6\n",
            "3 * 3 = 9\n",
            "4 * 3 = 12\n",
            "5 * 3 = 15\n",
            "6 * 3 = 18\n",
            "7 * 3 = 21\n",
            "8 * 3 = 24\n",
            "9 * 3 = 27\n",
            "10 * 3 = 30\n"
          ]
        }
      ]
    },
    {
      "cell_type": "code",
      "source": [
        "n=int(input(\"enter a number\"))\n",
        "result=1\n",
        "for i in range(n,0,-1):\n",
        "  print(\"factorial of \",n,\"is\",result)\n"
      ],
      "metadata": {
        "colab": {
          "base_uri": "https://localhost:8080/"
        },
        "id": "e0xfi1zpwiXF",
        "outputId": "63caece2-1df5-44d8-c4b3-ae089619f739"
      },
      "execution_count": 17,
      "outputs": [
        {
          "output_type": "stream",
          "name": "stdout",
          "text": [
            "enter a number2\n",
            "factorial of  2 is 1\n",
            "factorial of  2 is 1\n"
          ]
        }
      ]
    }
  ]
}